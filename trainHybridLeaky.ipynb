{
 "cells": [
  {
   "cell_type": "markdown",
   "id": "4b6cbff0",
   "metadata": {},
   "source": [
    "# Anime Recommendation Training\n",
    "Train embeddings for users and anime using PyTorch, with genre features and checkpointing."
   ]
  },
  {
   "cell_type": "code",
   "execution_count": null,
   "id": "aa93c4ea",
   "metadata": {},
   "outputs": [],
   "source": [
    "import torch\n",
    "import torch.nn as nn\n",
    "import torch.optim as optim\n",
    "import pandas as pd\n",
    "import glob\n",
    "import os\n",
    "from tqdm import tqdm\n",
    "import random\n",
    "import matplotlib.pyplot as plt\n",
    "from dataset import RatingsPTDataset"
   ]
  },
  {
   "cell_type": "markdown",
   "id": "473e5f23",
   "metadata": {},
   "source": [
    "## 1. Training parameters and paths"
   ]
  },
  {
   "cell_type": "code",
   "execution_count": 2,
   "id": "7edd5f48",
   "metadata": {},
   "outputs": [],
   "source": [
    "THRESHOLD = 500\n",
    "EPOCHS = 20\n",
    "CHECKPOINT_PATH = f\"checkpoints/hybridLeaky{THRESHOLD}\"\n",
    "os.makedirs(CHECKPOINT_PATH, exist_ok=True)\n",
    "CHECKPOINT_INTERVAL = 30_000\n",
    "USERNAME = 'sirawesomeness'\n",
    "# USERNAME = 'catfire8'"
   ]
  },
  {
   "cell_type": "code",
   "execution_count": 3,
   "id": "18db5b56",
   "metadata": {},
   "outputs": [
    {
     "name": "stderr",
     "output_type": "stream",
     "text": [
      "100%|██████████| 70/70 [00:02<00:00, 24.67it/s]"
     ]
    },
    {
     "name": "stdout",
     "output_type": "stream",
     "text": [
      "TOTAL_RATINGS: 127102285\n",
      "THRESHOLD: 500\n"
     ]
    },
    {
     "name": "stderr",
     "output_type": "stream",
     "text": [
      "\n"
     ]
    }
   ],
   "source": [
    "# Count total ratings\n",
    "\n",
    "threshold_folder = f\"data/pt_files{THRESHOLD}\"\n",
    "pattern = os.path.join(threshold_folder, f\"user_anime????????????_filtered{THRESHOLD}.pt\")\n",
    "csv_files = glob.glob(pattern)\n",
    "\n",
    "# anime_counter = Counter()\n",
    "count = 0\n",
    "for file_path in tqdm(csv_files):\n",
    "    df = torch.load(file_path)\n",
    "    count += len(df['anime_idx'])\n",
    "    if not len(df):\n",
    "        print(file_path)\n",
    "print(\"TOTAL_RATINGS:\", count)\n",
    "print(\"THRESHOLD:\",THRESHOLD)\n",
    "TOTAL_RATINGS = count\n",
    "BATCH_SIZE = 1024\n",
    "TOTAL_BATCHES = TOTAL_RATINGS // BATCH_SIZE"
   ]
  },
  {
   "cell_type": "markdown",
   "id": "e28908bd",
   "metadata": {},
   "source": [
    "## 2. Load anime data"
   ]
  },
  {
   "cell_type": "code",
   "execution_count": 4,
   "id": "fa9ec2c7",
   "metadata": {},
   "outputs": [
    {
     "name": "stdout",
     "output_type": "stream",
     "text": [
      "NUMBER OF ANIMES: 7448\n",
      "NUMBER OF GENRES: 44\n"
     ]
    }
   ],
   "source": [
    "anime_id_to_idx = torch.load(f\"data/pt_files{THRESHOLD}/anime_id_to_idx.pt\", weights_only=False)\n",
    "anime_genres = torch.load(f\"data/pt_files{THRESHOLD}/anime_genres.pt\")\n",
    "\n",
    "num_anime, num_genres = anime_genres.shape\n",
    "print(\"NUMBER OF ANIMES:\",num_anime)\n",
    "print(\"NUMBER OF GENRES:\",num_genres)"
   ]
  },
  {
   "cell_type": "markdown",
   "id": "9036b06f",
   "metadata": {},
   "source": [
    "## 3. Map all users"
   ]
  },
  {
   "cell_type": "code",
   "execution_count": 5,
   "id": "51f8f0e3",
   "metadata": {},
   "outputs": [
    {
     "name": "stdout",
     "output_type": "stream",
     "text": [
      "NUMBER OF USERS: 977946\n"
     ]
    }
   ],
   "source": [
    "user_id_to_idx = torch.load(f\"data/pt_files{THRESHOLD}/user_id_to_idx.pt\")\n",
    "num_users = len(user_id_to_idx)\n",
    "\n",
    "print(\"NUMBER OF USERS:\", num_users)"
   ]
  },
  {
   "cell_type": "markdown",
   "id": "e107e65d",
   "metadata": {},
   "source": [
    "## 4. Custom Dataset"
   ]
  },
  {
   "cell_type": "markdown",
   "id": "856a1294",
   "metadata": {},
   "source": [
    "Load from dataset.py"
   ]
  },
  {
   "cell_type": "markdown",
   "id": "1fe6031b",
   "metadata": {},
   "source": [
    "## 5. Define embedding model"
   ]
  },
  {
   "cell_type": "code",
   "execution_count": 6,
   "id": "7f1522ff",
   "metadata": {},
   "outputs": [],
   "source": [
    "class HybridMF(nn.Module):\n",
    "    def __init__(self, num_users, num_anime, num_genres, \n",
    "                 user_dim=64, anime_dim=128, genre_proj_dim=16, hidden_dim=32):\n",
    "        super().__init__()\n",
    "        self.user_emb = nn.Embedding(num_users, user_dim, sparse=True)\n",
    "        self.anime_emb = nn.Embedding(num_anime, anime_dim, sparse=True)\n",
    "        self.W_genre = nn.Linear(num_genres, genre_proj_dim)\n",
    "        self.project = nn.Linear(anime_dim + genre_proj_dim, user_dim)\n",
    "        \n",
    "        # Nonlinear MLP\n",
    "        self.mlp = nn.Sequential(\n",
    "            nn.Linear(user_dim + anime_dim + genre_proj_dim, hidden_dim),\n",
    "            nn.LeakyReLU(0.01),\n",
    "            nn.Linear(hidden_dim, 1)\n",
    "        )\n",
    "\n",
    "    def forward(self, user_idx, anime_idx, anime_genres):\n",
    "        u = self.user_emb(user_idx)\n",
    "        v = self.anime_emb(anime_idx)\n",
    "        g = self.W_genre(anime_genres[anime_idx])\n",
    "        \n",
    "        # ----- Linear path -----\n",
    "        v_combined = torch.cat([v, g], dim=1)\n",
    "        v_proj = self.project(v_combined)\n",
    "        linear_pred = (u * v_proj).sum(dim=1)\n",
    "\n",
    "        # ----- Nonlinear path -----\n",
    "        mlp_input = torch.cat([u, v, g], dim=1)\n",
    "        nonlinear_pred = self.mlp(mlp_input).squeeze(1)\n",
    "        \n",
    "        return linear_pred + nonlinear_pred\n",
    "    \n",
    "    def recommend(self, user_idx, anime_genres, top_k=10, device=\"cpu\", exclude_ids=None):\n",
    "        self.eval()\n",
    "        with torch.no_grad():\n",
    "            # Repeat user_idx across all anime\n",
    "            user_tensor = torch.tensor([user_idx] * anime_genres.size(0), \n",
    "                                       dtype=torch.long, device=device)\n",
    "            anime_tensor = torch.arange(anime_genres.size(0), \n",
    "                                        dtype=torch.long, device=device)\n",
    "            \n",
    "            preds = self.forward(user_tensor, anime_tensor, anime_genres)\n",
    "            \n",
    "            if exclude_ids is not None:\n",
    "                preds[exclude_ids] = float(\"-inf\")  # mask out watched anime\n",
    "\n",
    "            # Get top-k indices\n",
    "            top_scores, top_indices = torch.topk(preds, top_k)\n",
    "        \n",
    "        return top_indices.cpu().tolist(), top_scores.cpu().tolist()"
   ]
  },
  {
   "cell_type": "markdown",
   "id": "b3c526cb",
   "metadata": {},
   "source": [
    "## 6. Training setup"
   ]
  },
  {
   "cell_type": "code",
   "execution_count": 7,
   "id": "4c2cd9b5",
   "metadata": {},
   "outputs": [],
   "source": [
    "device = torch.device(\"cuda\" if torch.cuda.is_available() else \"cpu\")\n",
    "model = HybridMF(num_users, num_anime, num_genres).to(device)\n",
    "\n",
    "sparse_params = list(model.user_emb.parameters()) + list(model.anime_emb.parameters())\n",
    "dense_params = list(model.W_genre.parameters()) + list(model.project.parameters()) + list(model.mlp.parameters())\n",
    "\n",
    "optimizer_sparse = optim.SparseAdam(sparse_params, lr=5e-3)\n",
    "optimizer_dense = optim.Adam(dense_params, lr=1e-3, weight_decay=1e-5)\n",
    "loss_fn = nn.MSELoss()\n",
    "\n",
    "def save_checkpoint(model, optimizer_sparse, optimizer_dense, epoch, batch_in_epoch, loss, filename):\n",
    "    torch.save({\n",
    "        \"epoch\": epoch,\n",
    "        \"batch_in_epoch\": batch_in_epoch,\n",
    "        \"model_state_dict\": model.state_dict(),\n",
    "        \"optimizer_sparse_state_dict\": optimizer_sparse.state_dict(),\n",
    "        \"optimizer_dense_state_dict\": optimizer_dense.state_dict(),\n",
    "        \"loss\": loss,\n",
    "    }, filename)\n",
    "\n",
    "def load_checkpoint(model, optimizer_sparse, optimizer_dense, filename, device):\n",
    "    checkpoint = torch.load(filename, map_location=device)\n",
    "    model.load_state_dict(checkpoint[\"model_state_dict\"])\n",
    "    optimizer_sparse.load_state_dict(checkpoint[\"optimizer_sparse_state_dict\"])\n",
    "    optimizer_dense.load_state_dict(checkpoint[\"optimizer_dense_state_dict\"])\n",
    "    start_epoch = checkpoint.get(\"epoch\", 0)\n",
    "    start_batch_in_epoch = checkpoint.get(\"batch_in_epoch\", 0)\n",
    "    loss = checkpoint[\"loss\"]\n",
    "    return start_epoch, start_batch_in_epoch, loss\n",
    "\n",
    "pt_files = sorted(glob.glob(f\"data/pt_files{THRESHOLD}/user_anime*_filtered{THRESHOLD}.pt\"))\n",
    "global_seed = random.randint(0, 2**32 - 1)\n",
    "dataset = RatingsPTDataset(pt_files, global_seed)\n",
    "loader = torch.utils.data.DataLoader(dataset, batch_size=BATCH_SIZE, num_workers=4)\n",
    "anime_genres = anime_genres.to(device)"
   ]
  },
  {
   "cell_type": "markdown",
   "id": "761a11d0",
   "metadata": {},
   "source": [
    "## 7. Training loop"
   ]
  },
  {
   "cell_type": "code",
   "execution_count": 20,
   "id": "851599e1",
   "metadata": {},
   "outputs": [
    {
     "name": "stderr",
     "output_type": "stream",
     "text": [
      "Epoch 1/20:  24%|██▍       | 30011/124123 [04:12<13:44:36,  1.90it/s]"
     ]
    },
    {
     "name": "stdout",
     "output_type": "stream",
     "text": [
      "💾 Saved checkpoint: checkpoints/hybridLeaky500\\epoch01.pth, Checkpoint Loss: 2.121038082075119\n"
     ]
    },
    {
     "name": "stderr",
     "output_type": "stream",
     "text": [
      "Epoch 1/20:  48%|████▊     | 60026/124123 [07:51<21:21, 50.02it/s]   "
     ]
    },
    {
     "name": "stdout",
     "output_type": "stream",
     "text": [
      "💾 Saved checkpoint: checkpoints/hybridLeaky500\\epoch01.pth, Checkpoint Loss: 0.8773871775984764\n"
     ]
    },
    {
     "name": "stderr",
     "output_type": "stream",
     "text": [
      "Epoch 1/20:  73%|███████▎  | 90030/124123 [11:51<13:35, 41.81it/s] "
     ]
    },
    {
     "name": "stdout",
     "output_type": "stream",
     "text": [
      "💾 Saved checkpoint: checkpoints/hybridLeaky500\\epoch01.pth, Checkpoint Loss: 0.5694004315018654\n"
     ]
    },
    {
     "name": "stderr",
     "output_type": "stream",
     "text": [
      "Epoch 1/20:  97%|█████████▋| 120035/124123 [15:54<01:15, 54.01it/s] "
     ]
    },
    {
     "name": "stdout",
     "output_type": "stream",
     "text": [
      "💾 Saved checkpoint: checkpoints/hybridLeaky500\\epoch01.pth, Checkpoint Loss: 0.42451205791491725\n"
     ]
    },
    {
     "name": "stderr",
     "output_type": "stream",
     "text": [
      "Epoch 1/20: 124125it [16:33, 124.90it/s]                            \n"
     ]
    },
    {
     "name": "stdout",
     "output_type": "stream",
     "text": [
      "💾 Saved checkpoint: checkpoints/hybridLeaky500\\epoch01.pth, Epoch Loss: 1.815202907993885\n"
     ]
    },
    {
     "name": "stderr",
     "output_type": "stream",
     "text": [
      "Epoch 2/20:  24%|██▍       | 30023/124123 [04:05<35:58, 43.60it/s]  "
     ]
    },
    {
     "name": "stdout",
     "output_type": "stream",
     "text": [
      "💾 Saved checkpoint: checkpoints/hybridLeaky500\\epoch02.pth, Checkpoint Loss: 1.5948730861902236\n"
     ]
    },
    {
     "name": "stderr",
     "output_type": "stream",
     "text": [
      "Epoch 2/20:  48%|████▊     | 60023/124123 [08:09<26:29, 40.33it/s] "
     ]
    },
    {
     "name": "stdout",
     "output_type": "stream",
     "text": [
      "💾 Saved checkpoint: checkpoints/hybridLeaky500\\epoch02.pth, Checkpoint Loss: 0.7754681023597717\n"
     ]
    },
    {
     "name": "stderr",
     "output_type": "stream",
     "text": [
      "Epoch 2/20:  73%|███████▎  | 90022/124123 [12:07<13:31, 42.02it/s] "
     ]
    },
    {
     "name": "stdout",
     "output_type": "stream",
     "text": [
      "💾 Saved checkpoint: checkpoints/hybridLeaky500\\epoch02.pth, Checkpoint Loss: 0.5095352470821805\n"
     ]
    },
    {
     "name": "stderr",
     "output_type": "stream",
     "text": [
      "Epoch 2/20:  97%|█████████▋| 120020/124123 [16:06<02:08, 31.81it/s] "
     ]
    },
    {
     "name": "stdout",
     "output_type": "stream",
     "text": [
      "💾 Saved checkpoint: checkpoints/hybridLeaky500\\epoch02.pth, Checkpoint Loss: 0.38048711279193964\n"
     ]
    },
    {
     "name": "stderr",
     "output_type": "stream",
     "text": [
      "Epoch 2/20: 124125it [16:45, 123.41it/s]                            \n"
     ]
    },
    {
     "name": "stdout",
     "output_type": "stream",
     "text": [
      "💾 Saved checkpoint: checkpoints/hybridLeaky500\\epoch02.pth, Epoch Loss: 1.5484415406605485\n"
     ]
    },
    {
     "name": "stderr",
     "output_type": "stream",
     "text": [
      "Epoch 3/20:  24%|██▍       | 30018/124123 [04:05<35:29, 44.18it/s]  "
     ]
    },
    {
     "name": "stdout",
     "output_type": "stream",
     "text": [
      "💾 Saved checkpoint: checkpoints/hybridLeaky500\\epoch03.pth, Checkpoint Loss: 1.5256127020557722\n"
     ]
    },
    {
     "name": "stderr",
     "output_type": "stream",
     "text": [
      "Epoch 3/20:  48%|████▊     | 60023/124123 [08:08<28:53, 36.99it/s] "
     ]
    },
    {
     "name": "stdout",
     "output_type": "stream",
     "text": [
      "💾 Saved checkpoint: checkpoints/hybridLeaky500\\epoch03.pth, Checkpoint Loss: 0.7474536176284154\n"
     ]
    },
    {
     "name": "stderr",
     "output_type": "stream",
     "text": [
      "Epoch 3/20:  73%|███████▎  | 90015/124123 [12:11<14:06, 40.31it/s] "
     ]
    },
    {
     "name": "stdout",
     "output_type": "stream",
     "text": [
      "💾 Saved checkpoint: checkpoints/hybridLeaky500\\epoch03.pth, Checkpoint Loss: 0.4924450312455495\n"
     ]
    },
    {
     "name": "stderr",
     "output_type": "stream",
     "text": [
      "Epoch 3/20:  97%|█████████▋| 120019/124123 [16:18<01:54, 35.99it/s] "
     ]
    },
    {
     "name": "stdout",
     "output_type": "stream",
     "text": [
      "💾 Saved checkpoint: checkpoints/hybridLeaky500\\epoch03.pth, Checkpoint Loss: 0.3684336817614355\n"
     ]
    },
    {
     "name": "stderr",
     "output_type": "stream",
     "text": [
      "Epoch 3/20: 124125it [16:57, 121.96it/s]                            \n"
     ]
    },
    {
     "name": "stdout",
     "output_type": "stream",
     "text": [
      "💾 Saved checkpoint: checkpoints/hybridLeaky500\\epoch03.pth, Epoch Loss: 1.492642364760026\n"
     ]
    },
    {
     "name": "stderr",
     "output_type": "stream",
     "text": [
      "Epoch 4/20:  24%|██▍       | 30022/124123 [04:04<1:15:37, 20.74it/s]"
     ]
    },
    {
     "name": "stdout",
     "output_type": "stream",
     "text": [
      "💾 Saved checkpoint: checkpoints/hybridLeaky500\\epoch04.pth, Checkpoint Loss: 1.4824272539536159\n"
     ]
    },
    {
     "name": "stderr",
     "output_type": "stream",
     "text": [
      "Epoch 4/20:  48%|████▊     | 60017/124123 [08:10<1:06:23, 16.09it/s]"
     ]
    },
    {
     "name": "stdout",
     "output_type": "stream",
     "text": [
      "💾 Saved checkpoint: checkpoints/hybridLeaky500\\epoch04.pth, Checkpoint Loss: 0.7298756522496541\n"
     ]
    },
    {
     "name": "stderr",
     "output_type": "stream",
     "text": [
      "Epoch 4/20:  73%|███████▎  | 90018/124123 [12:15<26:35, 21.38it/s]  "
     ]
    },
    {
     "name": "stdout",
     "output_type": "stream",
     "text": [
      "💾 Saved checkpoint: checkpoints/hybridLeaky500\\epoch04.pth, Checkpoint Loss: 0.4817437856886122\n"
     ]
    },
    {
     "name": "stderr",
     "output_type": "stream",
     "text": [
      "Epoch 4/20:  97%|█████████▋| 120018/124123 [16:20<02:38, 25.90it/s] "
     ]
    },
    {
     "name": "stdout",
     "output_type": "stream",
     "text": [
      "💾 Saved checkpoint: checkpoints/hybridLeaky500\\epoch04.pth, Checkpoint Loss: 0.3618941535570262\n"
     ]
    },
    {
     "name": "stderr",
     "output_type": "stream",
     "text": [
      "Epoch 4/20: 124125it [17:00, 121.66it/s]                            \n"
     ]
    },
    {
     "name": "stdout",
     "output_type": "stream",
     "text": [
      "💾 Saved checkpoint: checkpoints/hybridLeaky500\\epoch04.pth, Epoch Loss: 1.4586822241473913\n"
     ]
    },
    {
     "name": "stderr",
     "output_type": "stream",
     "text": [
      "Epoch 5/20:  24%|██▍       | 30025/124123 [04:07<34:07, 45.95it/s]  "
     ]
    },
    {
     "name": "stdout",
     "output_type": "stream",
     "text": [
      "💾 Saved checkpoint: checkpoints/hybridLeaky500\\epoch05.pth, Checkpoint Loss: 1.4495262987494468\n"
     ]
    },
    {
     "name": "stderr",
     "output_type": "stream",
     "text": [
      "Epoch 5/20:  48%|████▊     | 60017/124123 [08:04<27:01, 39.53it/s] "
     ]
    },
    {
     "name": "stdout",
     "output_type": "stream",
     "text": [
      "💾 Saved checkpoint: checkpoints/hybridLeaky500\\epoch05.pth, Checkpoint Loss: 0.7157556999425093\n"
     ]
    },
    {
     "name": "stderr",
     "output_type": "stream",
     "text": [
      "Epoch 5/20:  73%|███████▎  | 90022/124123 [12:03<13:40, 41.58it/s] "
     ]
    },
    {
     "name": "stdout",
     "output_type": "stream",
     "text": [
      "💾 Saved checkpoint: checkpoints/hybridLeaky500\\epoch05.pth, Checkpoint Loss: 0.47367335498862795\n"
     ]
    },
    {
     "name": "stderr",
     "output_type": "stream",
     "text": [
      "Epoch 5/20:  97%|█████████▋| 120017/124123 [16:17<02:18, 29.72it/s] "
     ]
    },
    {
     "name": "stdout",
     "output_type": "stream",
     "text": [
      "💾 Saved checkpoint: checkpoints/hybridLeaky500\\epoch05.pth, Checkpoint Loss: 0.35552854426009817\n"
     ]
    },
    {
     "name": "stderr",
     "output_type": "stream",
     "text": [
      "Epoch 5/20: 124125it [17:08, 120.74it/s]                            \n"
     ]
    },
    {
     "name": "stdout",
     "output_type": "stream",
     "text": [
      "💾 Saved checkpoint: checkpoints/hybridLeaky500\\epoch05.pth, Epoch Loss: 1.4310885366010708\n"
     ]
    },
    {
     "name": "stderr",
     "output_type": "stream",
     "text": [
      "Epoch 6/20:  24%|██▍       | 30014/124123 [04:55<48:12, 32.54it/s]  "
     ]
    },
    {
     "name": "stdout",
     "output_type": "stream",
     "text": [
      "💾 Saved checkpoint: checkpoints/hybridLeaky500\\epoch06.pth, Checkpoint Loss: 1.4236883984208106\n"
     ]
    },
    {
     "name": "stderr",
     "output_type": "stream",
     "text": [
      "Epoch 6/20:  48%|████▊     | 60011/124123 [09:24<52:28, 20.36it/s]  "
     ]
    },
    {
     "name": "stdout",
     "output_type": "stream",
     "text": [
      "💾 Saved checkpoint: checkpoints/hybridLeaky500\\epoch06.pth, Checkpoint Loss: 0.7036819682935873\n"
     ]
    },
    {
     "name": "stderr",
     "output_type": "stream",
     "text": [
      "Epoch 6/20:  73%|███████▎  | 90018/124123 [14:02<1:38:55,  5.75it/s]"
     ]
    },
    {
     "name": "stdout",
     "output_type": "stream",
     "text": [
      "💾 Saved checkpoint: checkpoints/hybridLeaky500\\epoch06.pth, Checkpoint Loss: 0.46644466001987456\n"
     ]
    },
    {
     "name": "stderr",
     "output_type": "stream",
     "text": [
      "Epoch 6/20:  97%|█████████▋| 120014/124123 [17:55<01:38, 41.85it/s] "
     ]
    },
    {
     "name": "stdout",
     "output_type": "stream",
     "text": [
      "💾 Saved checkpoint: checkpoints/hybridLeaky500\\epoch06.pth, Checkpoint Loss: 0.35026865651318023\n"
     ]
    },
    {
     "name": "stderr",
     "output_type": "stream",
     "text": [
      "Epoch 6/20: 124125it [18:32, 111.59it/s]                            \n"
     ]
    },
    {
     "name": "stdout",
     "output_type": "stream",
     "text": [
      "💾 Saved checkpoint: checkpoints/hybridLeaky500\\epoch06.pth, Epoch Loss: 1.4081129356768685\n"
     ]
    },
    {
     "name": "stderr",
     "output_type": "stream",
     "text": [
      "Epoch 7/20:  24%|██▍       | 30023/124123 [04:19<29:34, 53.03it/s]  "
     ]
    },
    {
     "name": "stdout",
     "output_type": "stream",
     "text": [
      "💾 Saved checkpoint: checkpoints/hybridLeaky500\\epoch07.pth, Checkpoint Loss: 1.4018473856608074\n"
     ]
    },
    {
     "name": "stderr",
     "output_type": "stream",
     "text": [
      "Epoch 7/20:  48%|████▊     | 60020/124123 [08:09<48:37, 21.98it/s]  "
     ]
    },
    {
     "name": "stdout",
     "output_type": "stream",
     "text": [
      "💾 Saved checkpoint: checkpoints/hybridLeaky500\\epoch07.pth, Checkpoint Loss: 0.6922092334290345\n"
     ]
    },
    {
     "name": "stderr",
     "output_type": "stream",
     "text": [
      "Epoch 7/20:  73%|███████▎  | 90020/124123 [12:27<37:49, 15.03it/s] "
     ]
    },
    {
     "name": "stdout",
     "output_type": "stream",
     "text": [
      "💾 Saved checkpoint: checkpoints/hybridLeaky500\\epoch07.pth, Checkpoint Loss: 0.4595767729971144\n"
     ]
    },
    {
     "name": "stderr",
     "output_type": "stream",
     "text": [
      "Epoch 7/20:  97%|█████████▋| 120015/124123 [16:52<04:49, 14.19it/s] "
     ]
    },
    {
     "name": "stdout",
     "output_type": "stream",
     "text": [
      "💾 Saved checkpoint: checkpoints/hybridLeaky500\\epoch07.pth, Checkpoint Loss: 0.34514995647310936\n"
     ]
    },
    {
     "name": "stderr",
     "output_type": "stream",
     "text": [
      "Epoch 7/20: 124125it [17:33, 117.83it/s]                            \n"
     ]
    },
    {
     "name": "stdout",
     "output_type": "stream",
     "text": [
      "💾 Saved checkpoint: checkpoints/hybridLeaky500\\epoch07.pth, Epoch Loss: 1.3865852641315848\n"
     ]
    },
    {
     "name": "stderr",
     "output_type": "stream",
     "text": [
      "Epoch 8/20:  24%|██▍       | 30022/124123 [04:04<36:37, 42.83it/s] "
     ]
    },
    {
     "name": "stdout",
     "output_type": "stream",
     "text": [
      "💾 Saved checkpoint: checkpoints/hybridLeaky500\\epoch08.pth, Checkpoint Loss: 1.3812519652803739\n"
     ]
    },
    {
     "name": "stderr",
     "output_type": "stream",
     "text": [
      "Epoch 8/20:  48%|████▊     | 60019/124123 [08:07<34:36, 30.87it/s] "
     ]
    },
    {
     "name": "stdout",
     "output_type": "stream",
     "text": [
      "💾 Saved checkpoint: checkpoints/hybridLeaky500\\epoch08.pth, Checkpoint Loss: 0.6818319576760133\n"
     ]
    },
    {
     "name": "stderr",
     "output_type": "stream",
     "text": [
      "Epoch 8/20:  73%|███████▎  | 90021/124123 [12:09<17:33, 32.37it/s] "
     ]
    },
    {
     "name": "stdout",
     "output_type": "stream",
     "text": [
      "💾 Saved checkpoint: checkpoints/hybridLeaky500\\epoch08.pth, Checkpoint Loss: 0.4534090412735939\n"
     ]
    },
    {
     "name": "stderr",
     "output_type": "stream",
     "text": [
      "Epoch 8/20:  97%|█████████▋| 120010/124123 [16:20<08:58,  7.64it/s] "
     ]
    },
    {
     "name": "stdout",
     "output_type": "stream",
     "text": [
      "💾 Saved checkpoint: checkpoints/hybridLeaky500\\epoch08.pth, Checkpoint Loss: 0.34101817714426946\n"
     ]
    },
    {
     "name": "stderr",
     "output_type": "stream",
     "text": [
      "Epoch 8/20: 124125it [16:59, 121.76it/s]                            \n"
     ]
    },
    {
     "name": "stdout",
     "output_type": "stream",
     "text": [
      "💾 Saved checkpoint: checkpoints/hybridLeaky500\\epoch08.pth, Epoch Loss: 1.3674804710342987\n"
     ]
    },
    {
     "name": "stderr",
     "output_type": "stream",
     "text": [
      "Epoch 9/20:  24%|██▍       | 30036/124123 [04:06<27:35, 56.84it/s]  "
     ]
    },
    {
     "name": "stdout",
     "output_type": "stream",
     "text": [
      "💾 Saved checkpoint: checkpoints/hybridLeaky500\\epoch09.pth, Checkpoint Loss: 1.3616781034708023\n"
     ]
    },
    {
     "name": "stderr",
     "output_type": "stream",
     "text": [
      "Epoch 9/20:  48%|████▊     | 60022/124123 [08:06<27:34, 38.74it/s] "
     ]
    },
    {
     "name": "stdout",
     "output_type": "stream",
     "text": [
      "💾 Saved checkpoint: checkpoints/hybridLeaky500\\epoch09.pth, Checkpoint Loss: 0.6716300069133441\n"
     ]
    },
    {
     "name": "stderr",
     "output_type": "stream",
     "text": [
      "Epoch 9/20:  73%|███████▎  | 90021/124123 [12:08<17:29, 32.50it/s] "
     ]
    },
    {
     "name": "stdout",
     "output_type": "stream",
     "text": [
      "💾 Saved checkpoint: checkpoints/hybridLeaky500\\epoch09.pth, Checkpoint Loss: 0.4473047083232138\n"
     ]
    },
    {
     "name": "stderr",
     "output_type": "stream",
     "text": [
      "Epoch 9/20:  97%|█████████▋| 120020/124123 [15:52<02:28, 27.61it/s] "
     ]
    },
    {
     "name": "stdout",
     "output_type": "stream",
     "text": [
      "💾 Saved checkpoint: checkpoints/hybridLeaky500\\epoch09.pth, Checkpoint Loss: 0.3363275618153572\n"
     ]
    },
    {
     "name": "stderr",
     "output_type": "stream",
     "text": [
      "Epoch 9/20: 124125it [16:38, 124.35it/s]                            \n"
     ]
    },
    {
     "name": "stdout",
     "output_type": "stream",
     "text": [
      "💾 Saved checkpoint: checkpoints/hybridLeaky500\\epoch09.pth, Epoch Loss: 1.3482620486744172\n"
     ]
    },
    {
     "name": "stderr",
     "output_type": "stream",
     "text": [
      "Epoch 10/20:  24%|██▍       | 30038/124123 [03:18<27:50, 56.34it/s] "
     ]
    },
    {
     "name": "stdout",
     "output_type": "stream",
     "text": [
      "💾 Saved checkpoint: checkpoints/hybridLeaky500\\epoch10.pth, Checkpoint Loss: 1.3432302970846495\n"
     ]
    },
    {
     "name": "stderr",
     "output_type": "stream",
     "text": [
      "Epoch 10/20:  48%|████▊     | 60023/124123 [06:39<21:53, 48.82it/s] "
     ]
    },
    {
     "name": "stdout",
     "output_type": "stream",
     "text": [
      "💾 Saved checkpoint: checkpoints/hybridLeaky500\\epoch10.pth, Checkpoint Loss: 0.6619669557690621\n"
     ]
    },
    {
     "name": "stderr",
     "output_type": "stream",
     "text": [
      "Epoch 10/20:  73%|███████▎  | 90025/124123 [09:39<11:09, 50.94it/s] "
     ]
    },
    {
     "name": "stdout",
     "output_type": "stream",
     "text": [
      "💾 Saved checkpoint: checkpoints/hybridLeaky500\\epoch10.pth, Checkpoint Loss: 0.4414702611313926\n"
     ]
    },
    {
     "name": "stderr",
     "output_type": "stream",
     "text": [
      "Epoch 10/20:  97%|█████████▋| 120020/124123 [12:53<01:57, 34.84it/s] "
     ]
    },
    {
     "name": "stdout",
     "output_type": "stream",
     "text": [
      "💾 Saved checkpoint: checkpoints/hybridLeaky500\\epoch10.pth, Checkpoint Loss: 0.3320347181814674\n"
     ]
    },
    {
     "name": "stderr",
     "output_type": "stream",
     "text": [
      "Epoch 10/20: 124125it [13:39, 151.51it/s]                            \n"
     ]
    },
    {
     "name": "stdout",
     "output_type": "stream",
     "text": [
      "💾 Saved checkpoint: checkpoints/hybridLeaky500\\epoch10.pth, Epoch Loss: 1.3301759471311703\n"
     ]
    },
    {
     "name": "stderr",
     "output_type": "stream",
     "text": [
      "Epoch 11/20:  24%|██▍       | 30013/124123 [03:30<5:37:24,  4.65it/s]"
     ]
    },
    {
     "name": "stdout",
     "output_type": "stream",
     "text": [
      "💾 Saved checkpoint: checkpoints/hybridLeaky500\\epoch11.pth, Checkpoint Loss: 1.325412253298362\n"
     ]
    },
    {
     "name": "stderr",
     "output_type": "stream",
     "text": [
      "Epoch 11/20:  48%|████▊     | 60010/124123 [07:19<7:32:45,  2.36it/s] "
     ]
    },
    {
     "name": "stdout",
     "output_type": "stream",
     "text": [
      "💾 Saved checkpoint: checkpoints/hybridLeaky500\\epoch11.pth, Checkpoint Loss: 0.6527967255353928\n"
     ]
    },
    {
     "name": "stderr",
     "output_type": "stream",
     "text": [
      "Epoch 11/20:  73%|███████▎  | 90024/124123 [10:56<1:05:13,  8.71it/s]"
     ]
    },
    {
     "name": "stdout",
     "output_type": "stream",
     "text": [
      "💾 Saved checkpoint: checkpoints/hybridLeaky500\\epoch11.pth, Checkpoint Loss: 0.435838625262181\n"
     ]
    },
    {
     "name": "stderr",
     "output_type": "stream",
     "text": [
      "Epoch 11/20:  97%|█████████▋| 120013/124123 [14:14<11:07,  6.15it/s] "
     ]
    },
    {
     "name": "stdout",
     "output_type": "stream",
     "text": [
      "💾 Saved checkpoint: checkpoints/hybridLeaky500\\epoch11.pth, Checkpoint Loss: 0.32829130412669566\n"
     ]
    },
    {
     "name": "stderr",
     "output_type": "stream",
     "text": [
      "Epoch 11/20: 124125it [14:50, 139.41it/s]                            \n"
     ]
    },
    {
     "name": "stdout",
     "output_type": "stream",
     "text": [
      "💾 Saved checkpoint: checkpoints/hybridLeaky500\\epoch11.pth, Epoch Loss: 1.3131874661148566\n"
     ]
    },
    {
     "name": "stderr",
     "output_type": "stream",
     "text": [
      "Epoch 12/20:  24%|██▍       | 30026/124123 [03:25<57:41, 27.18it/s]  "
     ]
    },
    {
     "name": "stdout",
     "output_type": "stream",
     "text": [
      "💾 Saved checkpoint: checkpoints/hybridLeaky500\\epoch12.pth, Checkpoint Loss: 1.3083294511318206\n"
     ]
    },
    {
     "name": "stderr",
     "output_type": "stream",
     "text": [
      "Epoch 12/20:  48%|████▊     | 60034/124123 [06:50<27:05, 39.43it/s] "
     ]
    },
    {
     "name": "stdout",
     "output_type": "stream",
     "text": [
      "💾 Saved checkpoint: checkpoints/hybridLeaky500\\epoch12.pth, Checkpoint Loss: 0.6441919106105963\n"
     ]
    },
    {
     "name": "stderr",
     "output_type": "stream",
     "text": [
      "Epoch 12/20:  73%|███████▎  | 90021/124123 [09:55<20:14, 28.07it/s] "
     ]
    },
    {
     "name": "stdout",
     "output_type": "stream",
     "text": [
      "💾 Saved checkpoint: checkpoints/hybridLeaky500\\epoch12.pth, Checkpoint Loss: 0.4304301059808996\n"
     ]
    },
    {
     "name": "stderr",
     "output_type": "stream",
     "text": [
      "Epoch 12/20:  97%|█████████▋| 120020/124123 [13:13<02:20, 29.25it/s] "
     ]
    },
    {
     "name": "stdout",
     "output_type": "stream",
     "text": [
      "💾 Saved checkpoint: checkpoints/hybridLeaky500\\epoch12.pth, Checkpoint Loss: 0.32422256835989355\n"
     ]
    },
    {
     "name": "stderr",
     "output_type": "stream",
     "text": [
      "Epoch 12/20: 124125it [13:48, 149.78it/s]                            \n"
     ]
    },
    {
     "name": "stdout",
     "output_type": "stream",
     "text": [
      "💾 Saved checkpoint: checkpoints/hybridLeaky500\\epoch12.pth, Epoch Loss: 1.2965206121277075\n"
     ]
    },
    {
     "name": "stderr",
     "output_type": "stream",
     "text": [
      "Epoch 13/20:  24%|██▍       | 30023/124123 [03:10<1:50:48, 14.15it/s]"
     ]
    },
    {
     "name": "stdout",
     "output_type": "stream",
     "text": [
      "💾 Saved checkpoint: checkpoints/hybridLeaky500\\epoch13.pth, Checkpoint Loss: 1.292164457823833\n"
     ]
    },
    {
     "name": "stderr",
     "output_type": "stream",
     "text": [
      "Epoch 13/20:  48%|████▊     | 60026/124123 [06:20<1:28:30, 12.07it/s]"
     ]
    },
    {
     "name": "stdout",
     "output_type": "stream",
     "text": [
      "💾 Saved checkpoint: checkpoints/hybridLeaky500\\epoch13.pth, Checkpoint Loss: 0.6360676641762256\n"
     ]
    },
    {
     "name": "stderr",
     "output_type": "stream",
     "text": [
      "Epoch 13/20:  73%|███████▎  | 90020/124123 [09:38<16:35, 34.24it/s]  "
     ]
    },
    {
     "name": "stdout",
     "output_type": "stream",
     "text": [
      "💾 Saved checkpoint: checkpoints/hybridLeaky500\\epoch13.pth, Checkpoint Loss: 0.4252316957977083\n"
     ]
    },
    {
     "name": "stderr",
     "output_type": "stream",
     "text": [
      "Epoch 13/20:  97%|█████████▋| 120028/124123 [12:46<01:52, 36.24it/s] "
     ]
    },
    {
     "name": "stdout",
     "output_type": "stream",
     "text": [
      "💾 Saved checkpoint: checkpoints/hybridLeaky500\\epoch13.pth, Checkpoint Loss: 0.32065636457687713\n"
     ]
    },
    {
     "name": "stderr",
     "output_type": "stream",
     "text": [
      "Epoch 13/20: 124125it [13:17, 155.60it/s]                            \n"
     ]
    },
    {
     "name": "stdout",
     "output_type": "stream",
     "text": [
      "💾 Saved checkpoint: checkpoints/hybridLeaky500\\epoch13.pth, Epoch Loss: 1.2809777640670637\n"
     ]
    },
    {
     "name": "stderr",
     "output_type": "stream",
     "text": [
      "Epoch 14/20:  24%|██▍       | 30027/124123 [03:44<39:40, 39.54it/s] "
     ]
    },
    {
     "name": "stdout",
     "output_type": "stream",
     "text": [
      "💾 Saved checkpoint: checkpoints/hybridLeaky500\\epoch14.pth, Checkpoint Loss: 1.2764701324701309\n"
     ]
    },
    {
     "name": "stderr",
     "output_type": "stream",
     "text": [
      "Epoch 14/20:  48%|████▊     | 60013/124123 [07:07<1:09:49, 15.30it/s]"
     ]
    },
    {
     "name": "stdout",
     "output_type": "stream",
     "text": [
      "💾 Saved checkpoint: checkpoints/hybridLeaky500\\epoch14.pth, Checkpoint Loss: 0.6284096421758334\n"
     ]
    },
    {
     "name": "stderr",
     "output_type": "stream",
     "text": [
      "Epoch 14/20:  73%|███████▎  | 90022/124123 [10:53<28:10, 20.18it/s]  "
     ]
    },
    {
     "name": "stdout",
     "output_type": "stream",
     "text": [
      "💾 Saved checkpoint: checkpoints/hybridLeaky500\\epoch14.pth, Checkpoint Loss: 0.4202591179211934\n"
     ]
    },
    {
     "name": "stderr",
     "output_type": "stream",
     "text": [
      "Epoch 14/20:  97%|█████████▋| 120014/124123 [15:47<04:09, 16.45it/s] "
     ]
    },
    {
     "name": "stdout",
     "output_type": "stream",
     "text": [
      "💾 Saved checkpoint: checkpoints/hybridLeaky500\\epoch14.pth, Checkpoint Loss: 0.3170605818755001\n"
     ]
    },
    {
     "name": "stderr",
     "output_type": "stream",
     "text": [
      "Epoch 14/20: 124125it [16:37, 124.46it/s]                            \n"
     ]
    },
    {
     "name": "stdout",
     "output_type": "stream",
     "text": [
      "💾 Saved checkpoint: checkpoints/hybridLeaky500\\epoch14.pth, Epoch Loss: 1.2659227264712216\n"
     ]
    },
    {
     "name": "stderr",
     "output_type": "stream",
     "text": [
      "Epoch 15/20:  24%|██▍       | 30024/124123 [03:45<35:05, 44.68it/s] "
     ]
    },
    {
     "name": "stdout",
     "output_type": "stream",
     "text": [
      "💾 Saved checkpoint: checkpoints/hybridLeaky500\\epoch15.pth, Checkpoint Loss: 1.2615683825910091\n"
     ]
    },
    {
     "name": "stderr",
     "output_type": "stream",
     "text": [
      "Epoch 15/20:  48%|████▊     | 60023/124123 [07:45<34:20, 31.10it/s] "
     ]
    },
    {
     "name": "stdout",
     "output_type": "stream",
     "text": [
      "💾 Saved checkpoint: checkpoints/hybridLeaky500\\epoch15.pth, Checkpoint Loss: 0.6211287460337083\n"
     ]
    },
    {
     "name": "stderr",
     "output_type": "stream",
     "text": [
      "Epoch 15/20:  73%|███████▎  | 90014/124123 [11:56<16:39, 34.13it/s] "
     ]
    },
    {
     "name": "stdout",
     "output_type": "stream",
     "text": [
      "💾 Saved checkpoint: checkpoints/hybridLeaky500\\epoch15.pth, Checkpoint Loss: 0.41548383899860913\n"
     ]
    },
    {
     "name": "stderr",
     "output_type": "stream",
     "text": [
      "Epoch 15/20:  97%|█████████▋| 120019/124123 [15:41<02:04, 32.97it/s] "
     ]
    },
    {
     "name": "stdout",
     "output_type": "stream",
     "text": [
      "💾 Saved checkpoint: checkpoints/hybridLeaky500\\epoch15.pth, Checkpoint Loss: 0.31378748879468465\n"
     ]
    },
    {
     "name": "stderr",
     "output_type": "stream",
     "text": [
      "Epoch 15/20: 124125it [16:24, 126.04it/s]                            \n"
     ]
    },
    {
     "name": "stdout",
     "output_type": "stream",
     "text": [
      "💾 Saved checkpoint: checkpoints/hybridLeaky500\\epoch15.pth, Epoch Loss: 1.2517146118353457\n"
     ]
    },
    {
     "name": "stderr",
     "output_type": "stream",
     "text": [
      "Epoch 16/20:  24%|██▍       | 30023/124123 [03:28<45:11, 34.71it/s] "
     ]
    },
    {
     "name": "stdout",
     "output_type": "stream",
     "text": [
      "💾 Saved checkpoint: checkpoints/hybridLeaky500\\epoch16.pth, Checkpoint Loss: 1.2474635897795359\n"
     ]
    },
    {
     "name": "stderr",
     "output_type": "stream",
     "text": [
      "Epoch 16/20:  48%|████▊     | 60016/124123 [07:51<29:49, 35.82it/s] "
     ]
    },
    {
     "name": "stdout",
     "output_type": "stream",
     "text": [
      "💾 Saved checkpoint: checkpoints/hybridLeaky500\\epoch16.pth, Checkpoint Loss: 0.6142972021271785\n"
     ]
    },
    {
     "name": "stderr",
     "output_type": "stream",
     "text": [
      "Epoch 16/20:  73%|███████▎  | 90013/124123 [12:27<2:18:07,  4.12it/s]"
     ]
    },
    {
     "name": "stdout",
     "output_type": "stream",
     "text": [
      "💾 Saved checkpoint: checkpoints/hybridLeaky500\\epoch16.pth, Checkpoint Loss: 0.4109410500122441\n"
     ]
    },
    {
     "name": "stderr",
     "output_type": "stream",
     "text": [
      "Epoch 16/20:  97%|█████████▋| 120023/124123 [16:45<01:55, 35.55it/s] "
     ]
    },
    {
     "name": "stdout",
     "output_type": "stream",
     "text": [
      "💾 Saved checkpoint: checkpoints/hybridLeaky500\\epoch16.pth, Checkpoint Loss: 0.3104043865355749\n"
     ]
    },
    {
     "name": "stderr",
     "output_type": "stream",
     "text": [
      "Epoch 16/20: 124125it [17:29, 118.32it/s]                            \n"
     ]
    },
    {
     "name": "stdout",
     "output_type": "stream",
     "text": [
      "💾 Saved checkpoint: checkpoints/hybridLeaky500\\epoch16.pth, Epoch Loss: 1.2379895405628247\n"
     ]
    },
    {
     "name": "stderr",
     "output_type": "stream",
     "text": [
      "Epoch 17/20:  24%|██▍       | 30022/124123 [04:33<40:17, 38.93it/s]  "
     ]
    },
    {
     "name": "stdout",
     "output_type": "stream",
     "text": [
      "💾 Saved checkpoint: checkpoints/hybridLeaky500\\epoch17.pth, Checkpoint Loss: 1.2338850727717081\n"
     ]
    },
    {
     "name": "stderr",
     "output_type": "stream",
     "text": [
      "Epoch 17/20:  48%|████▊     | 60015/124123 [09:03<33:34, 31.83it/s]  "
     ]
    },
    {
     "name": "stdout",
     "output_type": "stream",
     "text": [
      "💾 Saved checkpoint: checkpoints/hybridLeaky500\\epoch17.pth, Checkpoint Loss: 0.6076885637034972\n"
     ]
    },
    {
     "name": "stderr",
     "output_type": "stream",
     "text": [
      "Epoch 17/20:  73%|███████▎  | 90018/124123 [13:31<16:34, 34.28it/s] "
     ]
    },
    {
     "name": "stdout",
     "output_type": "stream",
     "text": [
      "💾 Saved checkpoint: checkpoints/hybridLeaky500\\epoch17.pth, Checkpoint Loss: 0.4065571690062682\n"
     ]
    },
    {
     "name": "stderr",
     "output_type": "stream",
     "text": [
      "Epoch 17/20:  97%|█████████▋| 120019/124123 [18:00<02:03, 33.31it/s] "
     ]
    },
    {
     "name": "stdout",
     "output_type": "stream",
     "text": [
      "💾 Saved checkpoint: checkpoints/hybridLeaky500\\epoch17.pth, Checkpoint Loss: 0.30738411336832716\n"
     ]
    },
    {
     "name": "stderr",
     "output_type": "stream",
     "text": [
      "Epoch 17/20: 124125it [18:44, 110.37it/s]                            \n"
     ]
    },
    {
     "name": "stdout",
     "output_type": "stream",
     "text": [
      "💾 Saved checkpoint: checkpoints/hybridLeaky500\\epoch17.pth, Epoch Loss: 1.224984662326541\n"
     ]
    },
    {
     "name": "stderr",
     "output_type": "stream",
     "text": [
      "Epoch 18/20:  24%|██▍       | 30018/124123 [04:18<48:25, 32.39it/s]  "
     ]
    },
    {
     "name": "stdout",
     "output_type": "stream",
     "text": [
      "💾 Saved checkpoint: checkpoints/hybridLeaky500\\epoch18.pth, Checkpoint Loss: 1.2207995962878069\n"
     ]
    },
    {
     "name": "stderr",
     "output_type": "stream",
     "text": [
      "Epoch 18/20:  48%|████▊     | 60016/124123 [08:33<30:34, 34.94it/s] "
     ]
    },
    {
     "name": "stdout",
     "output_type": "stream",
     "text": [
      "💾 Saved checkpoint: checkpoints/hybridLeaky500\\epoch18.pth, Checkpoint Loss: 0.6014176821867625\n"
     ]
    },
    {
     "name": "stderr",
     "output_type": "stream",
     "text": [
      "Epoch 18/20:  73%|███████▎  | 90015/124123 [13:22<2:16:02,  4.18it/s]"
     ]
    },
    {
     "name": "stdout",
     "output_type": "stream",
     "text": [
      "💾 Saved checkpoint: checkpoints/hybridLeaky500\\epoch18.pth, Checkpoint Loss: 0.40235515060491034\n"
     ]
    },
    {
     "name": "stderr",
     "output_type": "stream",
     "text": [
      "Epoch 18/20:  97%|█████████▋| 120009/124123 [18:07<11:41,  5.86it/s] "
     ]
    },
    {
     "name": "stdout",
     "output_type": "stream",
     "text": [
      "💾 Saved checkpoint: checkpoints/hybridLeaky500\\epoch18.pth, Checkpoint Loss: 0.3041827501494576\n"
     ]
    },
    {
     "name": "stderr",
     "output_type": "stream",
     "text": [
      "Epoch 18/20: 124125it [18:55, 109.34it/s]                            \n"
     ]
    },
    {
     "name": "stdout",
     "output_type": "stream",
     "text": [
      "💾 Saved checkpoint: checkpoints/hybridLeaky500\\epoch18.pth, Epoch Loss: 1.2122313470650299\n"
     ]
    },
    {
     "name": "stderr",
     "output_type": "stream",
     "text": [
      "Epoch 19/20:  24%|██▍       | 30021/124123 [04:38<52:17, 29.99it/s]  "
     ]
    },
    {
     "name": "stdout",
     "output_type": "stream",
     "text": [
      "💾 Saved checkpoint: checkpoints/hybridLeaky500\\epoch19.pth, Checkpoint Loss: 1.2081612253765266\n"
     ]
    },
    {
     "name": "stderr",
     "output_type": "stream",
     "text": [
      "Epoch 19/20:  48%|████▊     | 60022/124123 [09:20<34:44, 30.76it/s] "
     ]
    },
    {
     "name": "stdout",
     "output_type": "stream",
     "text": [
      "💾 Saved checkpoint: checkpoints/hybridLeaky500\\epoch19.pth, Checkpoint Loss: 0.5953958210666974\n"
     ]
    },
    {
     "name": "stderr",
     "output_type": "stream",
     "text": [
      "Epoch 19/20:  73%|███████▎  | 90018/124123 [13:56<17:44, 32.03it/s] "
     ]
    },
    {
     "name": "stdout",
     "output_type": "stream",
     "text": [
      "💾 Saved checkpoint: checkpoints/hybridLeaky500\\epoch19.pth, Checkpoint Loss: 0.39835163061883716\n"
     ]
    },
    {
     "name": "stderr",
     "output_type": "stream",
     "text": [
      "Epoch 19/20:  97%|█████████▋| 120019/124123 [18:37<01:54, 35.78it/s] "
     ]
    },
    {
     "name": "stdout",
     "output_type": "stream",
     "text": [
      "💾 Saved checkpoint: checkpoints/hybridLeaky500\\epoch19.pth, Checkpoint Loss: 0.30151992742452854\n"
     ]
    },
    {
     "name": "stderr",
     "output_type": "stream",
     "text": [
      "Epoch 19/20: 124125it [19:23, 106.64it/s]                            \n"
     ]
    },
    {
     "name": "stdout",
     "output_type": "stream",
     "text": [
      "💾 Saved checkpoint: checkpoints/hybridLeaky500\\epoch19.pth, Epoch Loss: 1.2003923909195855\n"
     ]
    },
    {
     "name": "stderr",
     "output_type": "stream",
     "text": [
      "Epoch 20/20:  24%|██▍       | 30017/124123 [04:27<53:16, 29.44it/s]  "
     ]
    },
    {
     "name": "stdout",
     "output_type": "stream",
     "text": [
      "💾 Saved checkpoint: checkpoints/hybridLeaky500\\epoch20.pth, Checkpoint Loss: 1.196174887361129\n"
     ]
    },
    {
     "name": "stderr",
     "output_type": "stream",
     "text": [
      "Epoch 20/20:  48%|████▊     | 60029/124123 [09:55<4:44:26,  3.76it/s]"
     ]
    },
    {
     "name": "stdout",
     "output_type": "stream",
     "text": [
      "💾 Saved checkpoint: checkpoints/hybridLeaky500\\epoch20.pth, Checkpoint Loss: 0.5896444570889076\n"
     ]
    },
    {
     "name": "stderr",
     "output_type": "stream",
     "text": [
      "Epoch 20/20:  73%|███████▎  | 90018/124123 [12:56<13:46, 41.29it/s]  "
     ]
    },
    {
     "name": "stdout",
     "output_type": "stream",
     "text": [
      "💾 Saved checkpoint: checkpoints/hybridLeaky500\\epoch20.pth, Checkpoint Loss: 0.394463497231404\n"
     ]
    },
    {
     "name": "stderr",
     "output_type": "stream",
     "text": [
      "Epoch 20/20:  97%|█████████▋| 120021/124123 [16:25<01:32, 44.54it/s] "
     ]
    },
    {
     "name": "stdout",
     "output_type": "stream",
     "text": [
      "💾 Saved checkpoint: checkpoints/hybridLeaky500\\epoch20.pth, Checkpoint Loss: 0.29861946074740114\n"
     ]
    },
    {
     "name": "stderr",
     "output_type": "stream",
     "text": [
      "Epoch 20/20: 124125it [17:02, 121.45it/s]                            \n"
     ]
    },
    {
     "name": "stdout",
     "output_type": "stream",
     "text": [
      "💾 Saved checkpoint: checkpoints/hybridLeaky500\\epoch20.pth, Epoch Loss: 1.1887345090754036\n"
     ]
    }
   ],
   "source": [
    "start_epoch, start_batch_in_epoch, prev_loss = 0, 0, None\n",
    "checkpoint_files = sorted(glob.glob(os.path.join(CHECKPOINT_PATH, \"epoch*.pth\")))\n",
    "if checkpoint_files:\n",
    "    last_checkpoint = checkpoint_files[-1]\n",
    "    start_epoch, start_batch_in_epoch, prev_loss = load_checkpoint(model, optimizer_sparse, optimizer_dense, last_checkpoint, device)\n",
    "    print(f\"Resuming from {last_checkpoint}, epoch={start_epoch}, batch_in_epoch={start_batch_in_epoch}, prev_loss={prev_loss:.4f}\")\n",
    "    \n",
    "for epoch in range(start_epoch, EPOCHS):\n",
    "    total_loss = 0\n",
    "    count = 0\n",
    "    \n",
    "    checkpoint_loss = 0\n",
    "    checkpoint_count = 0\n",
    "    \n",
    "    progress_bar = tqdm(loader, total=TOTAL_BATCHES, desc=f\"Epoch {epoch+1}/{EPOCHS}\")\n",
    "    \n",
    "    for i, batch in enumerate(progress_bar):\n",
    "        if epoch == start_epoch and i < start_batch_in_epoch:\n",
    "            continue\n",
    "        \n",
    "        user_idx_batch, anime_idx_batch, score_batch = batch\n",
    "        user_idx_batch = user_idx_batch.to(device)\n",
    "        anime_idx_batch = anime_idx_batch.to(device)\n",
    "        score_batch = score_batch.to(device)\n",
    "\n",
    "        optimizer_sparse.zero_grad()\n",
    "        optimizer_dense.zero_grad()\n",
    "        pred = model(user_idx_batch, anime_idx_batch, anime_genres)\n",
    "        loss = loss_fn(pred, score_batch)\n",
    "        loss.backward()\n",
    "        optimizer_sparse.step()\n",
    "        optimizer_dense.step()\n",
    "\n",
    "        total_loss += loss.item() * len(user_idx_batch)\n",
    "        count += len(user_idx_batch)\n",
    "        \n",
    "        checkpoint_loss += loss.item() * len(user_idx_batch)\n",
    "        checkpoint_count += len(user_idx_batch)\n",
    "        \n",
    "\n",
    "        # periodic checkpoint\n",
    "        if (i + 1) % CHECKPOINT_INTERVAL == 0:\n",
    "            ckpt_path = os.path.join(CHECKPOINT_PATH, f\"epoch{epoch+1:02d}.pth\")\n",
    "            save_checkpoint(model, optimizer_sparse, optimizer_dense, epoch, i + 1, total_loss / count, ckpt_path)\n",
    "            progress_bar.write(f\"💾 Saved checkpoint: {ckpt_path}, Checkpoint Loss: {checkpoint_loss / max(1, checkpoint_count)}\")\n",
    "            checkpoint_loss, checkpoint_count = 0, 0\n",
    "\n",
    "    # end of epoch checkpoint\n",
    "    ckpt_path = os.path.join(CHECKPOINT_PATH, f\"epoch{epoch+1:02d}.pth\")\n",
    "    save_checkpoint(model, optimizer_sparse, optimizer_dense, epoch + 1, 0, total_loss / count, ckpt_path)\n",
    "    progress_bar.write(f\"💾 Saved checkpoint: {ckpt_path}, Epoch Loss: {total_loss / count}\")"
   ]
  },
  {
   "cell_type": "markdown",
   "id": "45cc3da5",
   "metadata": {},
   "source": [
    "## 8. Make Recommendations\n"
   ]
  },
  {
   "cell_type": "code",
   "execution_count": 23,
   "id": "eb31a81b",
   "metadata": {},
   "outputs": [
    {
     "name": "stderr",
     "output_type": "stream",
     "text": [
      "100%|██████████| 70/70 [00:06<00:00, 11.38it/s]\n"
     ]
    },
    {
     "name": "stdout",
     "output_type": "stream",
     "text": [
      "Anime sirawesomeness rated 10 to verify\n",
      "10 Naruto: Shippuuden\n",
      "10 Naruto\n",
      "10 Fate/stay night Movie: Heaven's Feel - I. Presage Flower\n",
      "10 JoJo no Kimyou na Bouken Part 3: Stardust Crusaders 2nd Season\n",
      "10 Fate/stay night: Unlimited Blade Works 2nd Season\n",
      "10 Koe no Katachi\n",
      "10 Gintama°\n",
      "10 Code Geass: Hangyaku no Lelouch R2\n",
      "10 Re:Zero kara Hajimeru Isekai Seikatsu\n",
      "10 Fate/stay night Movie: Heaven's Feel - II. Lost Butterfly\n",
      "10 Fate/stay night Movie: Heaven's Feel - III. Spring Song\n",
      "10 Haikyuu!! Movie 4: Concept no Tatakai\n",
      "10 Boku no Hero Academia 4th Season\n",
      "10 Mushoku Tensei: Isekai Ittara Honki Dasu\n",
      "10 Re:Zero kara Hajimeru Isekai Seikatsu 2nd Season\n",
      "10 Shokugeki no Souma: Shin no Sara\n",
      "10 Shingeki no Kyojin: The Final Season\n",
      "10 BNA\n",
      "10 Haikyuu!! To the Top 2nd Season\n",
      "10 Shokugeki no Souma: Gou no Sara\n",
      "10 Mushoku Tensei: Isekai Ittara Honki Dasu Part 2\n",
      "10 Odd Taxi\n"
     ]
    }
   ],
   "source": [
    "# Get watched animes\n",
    "\n",
    "filtered_folder = f\"data/pt_files{THRESHOLD}\"\n",
    "pattern = os.path.join(filtered_folder, f\"user_anime????????????_filtered{THRESHOLD}.pt\")\n",
    "pt_files = glob.glob(pattern)\n",
    "user_idx = int(user_id_to_idx[USERNAME]) # convert to Python int\n",
    "anime_indices_list = []\n",
    "scores = []\n",
    "\n",
    "for file in tqdm(pt_files):\n",
    "    data = torch.load(file, map_location='cpu')  # dict of tensors\n",
    "\n",
    "    # Boolean mask for rows of this user\n",
    "    mask = data['user_idx'] == user_idx\n",
    "\n",
    "    # Extract anime indices for this user\n",
    "    user_animes = data['anime_idx'][mask]\n",
    "    user_scores = data['scores'][mask]\n",
    "\n",
    "    if user_animes.numel() > 0:\n",
    "        anime_indices_list.extend(user_animes)\n",
    "        scores.extend(user_scores)\n",
    "        \n",
    "anime_path = \"data/filteredRatings/anime_filtered.csv\" if not THRESHOLD else f\"data/filteredRatingsThreshold{THRESHOLD}/anime_filtered.csv\"\n",
    "df = pd.read_csv(anime_path)\n",
    "df = df.iloc[anime_indices_list]\n",
    "print(f\"Anime {USERNAME} rated 10 to verify\")\n",
    "for title,score in zip(df['title'],scores):\n",
    "    score = int(score)\n",
    "    if score == 10:\n",
    "        print(score, title)\n"
   ]
  },
  {
   "cell_type": "code",
   "execution_count": 24,
   "id": "417b0110",
   "metadata": {},
   "outputs": [
    {
     "name": "stdout",
     "output_type": "stream",
     "text": [
      "Making prediction from checkpoints/hybridLeaky500\\epoch20.pth, loss=1.1887\n",
      "Recommendations for sirawesomeness\n",
      "Index   Title                                       URL\n",
      "----------------------------------------------------------------------------------\n",
      "1       Nana                                        https://myanimelist.net/anime/877\n",
      "2       Lupin III: Otakara Henkyaku Daisakusen!!    https://myanimelist.net/anime/1424\n",
      "3       Ginga Eiyuu Densetsu                        https://myanimelist.net/anime/820\n",
      "4       Gallery Fake                                https://myanimelist.net/anime/364\n",
      "5       Uchuu Kyoudai                               https://myanimelist.net/anime/12431\n",
      "6       Cross Game                                  https://myanimelist.net/anime/5941\n",
      "7       Ashita no Joe 2                             https://myanimelist.net/anime/2921\n",
      "8       Major S2                                    https://myanimelist.net/anime/558\n",
      "9       Tsurikichi Sanpei                           https://myanimelist.net/anime/3137\n",
      "10      Hanada Shounen-shi                          https://myanimelist.net/anime/2004\n"
     ]
    }
   ],
   "source": [
    "checkpoint_files = sorted(glob.glob(os.path.join(CHECKPOINT_PATH, \"epoch*.pth\")))\n",
    "if checkpoint_files:\n",
    "    last_checkpoint = checkpoint_files[-1]\n",
    "    _, _, loss = load_checkpoint(model, optimizer_sparse, optimizer_dense, last_checkpoint, device)\n",
    "    print(f\"Making prediction from {last_checkpoint}, loss={loss:.4f}\")\n",
    "\n",
    "user_idx = user_id_to_idx[USERNAME]\n",
    "# top_indices, top_scores = model.recommend(user_idx, anime_genres, device=device)\n",
    "top_indices, top_scores = model.recommend(user_idx, anime_genres, device=device,exclude_ids=anime_indices_list)\n",
    "anime_path = \"data/filteredRatings/anime_filtered.csv\" if not THRESHOLD else f\"data/filteredRatingsThreshold{THRESHOLD}/anime_filtered.csv\"\n",
    "df = pd.read_csv(anime_path)\n",
    "df = df.iloc[top_indices]\n",
    "print(f\"Recommendations for {USERNAME}\")\n",
    "\n",
    "# Calculate dynamic padding based on the longest title\n",
    "max_title_len = df['title'].map(len).max()\n",
    "title_col_width = max(max_title_len, len(\"Title\")) + 2  # +2 for a little breathing room\n",
    "\n",
    "# Print formatted header\n",
    "print(f\"{'Index':<6}  {'Title':<{title_col_width}}  {'URL'}\")\n",
    "print(\"-\" * (title_col_width + 40))  # Adjust line length for aesthetics\n",
    "\n",
    "# Print rows with dynamic spacing\n",
    "index = 1\n",
    "for _, row in df.iterrows():\n",
    "    url = f\"https://myanimelist.net/anime/{row['anime_id']}\"\n",
    "    print(f\"{index:<6}  {row['title']:<{title_col_width}}  {url}\")\n",
    "    index += 1\n",
    "\n",
    "\n"
   ]
  },
  {
   "cell_type": "markdown",
   "id": "0526326d",
   "metadata": {},
   "source": [
    "### Plot Loss"
   ]
  },
  {
   "cell_type": "code",
   "execution_count": 21,
   "id": "1efb2abf",
   "metadata": {},
   "outputs": [],
   "source": [
    "def load_checkpoint_loss(filename):\n",
    "    checkpoint = torch.load(filename)\n",
    "    start_epoch = checkpoint.get(\"epoch\", 0)\n",
    "    loss = checkpoint[\"loss\"]\n",
    "    return start_epoch, loss\n",
    "\n",
    "def plot_losses(folder_path, pattern=\"*.pth\"):\n",
    "    model_name = os.path.basename(os.path.normpath(folder_path))\n",
    "    # 1. Collect all checkpoint file paths\n",
    "    files = sorted(glob.glob(f\"{folder_path}/{pattern}\"))\n",
    "\n",
    "    if not files:\n",
    "        print(f\"No files found in {folder_path} with pattern {pattern}\")\n",
    "        return\n",
    "\n",
    "    # 2. Load epochs and losses\n",
    "    epochs, losses = [], []\n",
    "    for f in files:\n",
    "        try:\n",
    "            epoch, loss = load_checkpoint_loss(f)\n",
    "            epochs.append(epoch)\n",
    "            losses.append(loss)\n",
    "        except Exception as e:\n",
    "            print(f\"Skipping {f}: {e}\")\n",
    "\n",
    "    # 3. Sort by epoch (in case filenames aren't ordered)\n",
    "    epochs, losses = zip(*sorted(zip(epochs, losses)))\n",
    "\n",
    "    # 4. Plot\n",
    "    plt.figure(figsize=(8, 5))\n",
    "    plt.plot(epochs, losses, marker='o')\n",
    "    plt.title(f\"Training Loss - {model_name.title()}\")\n",
    "    plt.xlabel(\"Epoch\")\n",
    "    plt.ylabel(\"Loss\")\n",
    "    plt.grid(True)\n",
    "    plt.show()"
   ]
  },
  {
   "cell_type": "code",
   "execution_count": 22,
   "id": "a4e07b45",
   "metadata": {},
   "outputs": [
    {
     "data": {
      "image/png": "[encoded data removed]",
      "text/plain": [
       "<Figure size 800x500 with 1 Axes>"
      ]
     },
     "metadata": {},
     "output_type": "display_data"
    }
   ],
   "source": [
    "plot_losses(\"checkpoints/hybridLeaky500\")"
   ]
  },
  {
   "cell_type": "markdown",
   "id": "cb9d13dc",
   "metadata": {},
   "source": [
    "### Check Zeros ReLU"
   ]
  },
  {
   "cell_type": "code",
   "execution_count": null,
   "id": "440d2a4b",
   "metadata": {},
   "outputs": [
    {
     "name": "stderr",
     "output_type": "stream",
     "text": [
      "<>:55: SyntaxWarning: invalid escape sequence '\\S'\n",
      "<>:55: SyntaxWarning: invalid escape sequence '\\S'\n",
      "C:\\Users\\chris\\AppData\\Local\\Temp\\ipykernel_27988\\176696861.py:55: SyntaxWarning: invalid escape sequence '\\S'\n",
      "  print(\"\\Small Activation LeakyReLU neuron fraction per checkpoint:\")\n",
      "C:\\Users\\chris\\AppData\\Local\\Temp\\ipykernel_27988\\176696861.py:49: UserWarning: To copy construct from a tensor, it is recommended to use sourceTensor.detach().clone() or sourceTensor.detach().clone().requires_grad_(True), rather than torch.tensor(sourceTensor).\n",
      "  user_idx_batch = torch.tensor(sample_data[\"user_idx\"][:BATCH_SIZE_CHECK])\n",
      "C:\\Users\\chris\\AppData\\Local\\Temp\\ipykernel_27988\\176696861.py:50: UserWarning: To copy construct from a tensor, it is recommended to use sourceTensor.detach().clone() or sourceTensor.detach().clone().requires_grad_(True), rather than torch.tensor(sourceTensor).\n",
      "  anime_idx_batch = torch.tensor(sample_data[\"anime_idx\"][:BATCH_SIZE_CHECK])\n"
     ]
    },
    {
     "name": "stdout",
     "output_type": "stream",
     "text": [
      "\\Small Activation LeakyReLU neuron fraction per checkpoint:\n",
      "Epoch | % Small Activations\n",
      "----------------------\n",
      "Epoch 1: 0.59% small activations\n",
      "Epoch 2: 0.29% small activations\n",
      "Epoch 3: 0.00% small activations\n",
      "Epoch 4: 0.20% small activations\n",
      "Epoch 5: 0.68% small activations\n",
      "Epoch 6: 0.68% small activations\n",
      "Epoch 7: 2.34% small activations\n",
      "Epoch 8: 0.39% small activations\n",
      "Epoch 9: 0.29% small activations\n",
      "Epoch 10: 0.29% small activations\n"
     ]
    }
   ],
   "source": [
    "def small_activation_hook(name, stats_dict):\n",
    "    def hook(module, input, output):\n",
    "        # Compute how many activations are \"small\" in magnitude\n",
    "        small = (output.abs() < 1e-3).sum().item()\n",
    "        total = output.numel()\n",
    "        stats_dict[name] = {\n",
    "            \"small_count\": small,\n",
    "            \"total_count\": total,\n",
    "            \"small_fraction\": small / total,\n",
    "            \"threshold\": 1e-3\n",
    "        }\n",
    "    return hook\n",
    "\n",
    "def check_dead_neurons(model, user_idx_batch, anime_idx_batch, anime_genres, device):\n",
    "    activation_stats = {}\n",
    "\n",
    "    # Register hooks on all ReLU layers\n",
    "    hooks = []\n",
    "    for name, module in model.named_modules():\n",
    "        if isinstance(module, nn.LeakyReLU):\n",
    "            hooks.append(module.register_forward_hook(small_activation_hook(name, activation_stats)))\n",
    "\n",
    "    model.eval()\n",
    "    with torch.no_grad():\n",
    "        user_idx_batch = user_idx_batch.to(device)\n",
    "        anime_idx_batch = anime_idx_batch.to(device)\n",
    "        anime_genres = anime_genres.to(device)\n",
    "        _ = model(user_idx_batch, anime_idx_batch, anime_genres)\n",
    "\n",
    "    # Remove hooks\n",
    "    for h in hooks:\n",
    "        h.remove()\n",
    "\n",
    "    return activation_stats\n",
    "\n",
    "BATCH_SIZE_CHECK = 32\n",
    "sample_data = torch.load(pt_files[0], map_location='cpu')\n",
    "user_idx_batch = torch.tensor(sample_data[\"user_idx\"][:BATCH_SIZE_CHECK])\n",
    "anime_idx_batch = torch.tensor(sample_data[\"anime_idx\"][:BATCH_SIZE_CHECK])\n",
    "\n",
    "# Loop over all checkpoints\n",
    "checkpoint_files = sorted(glob.glob(os.path.join(CHECKPOINT_PATH, \"epoch*.pth\")))\n",
    "\n",
    "print(\"\\Small Activation LeakyReLU neuron fraction per checkpoint:\")\n",
    "print(\"Epoch | % Small Activations\")\n",
    "print(\"----------------------\")\n",
    "for ckpt_file in checkpoint_files:\n",
    "    epoch = int(os.path.basename(ckpt_file).replace(\"epoch\", \"\").replace(\".pth\", \"\"))\n",
    "    load_checkpoint(model, optimizer_sparse, optimizer_dense, ckpt_file, device)\n",
    "    stats = check_dead_neurons(model, user_idx_batch, anime_idx_batch, anime_genres, device)\n",
    "\n",
    "    for layer, s in stats.items():\n",
    "        print(f\"Epoch {epoch}: {s['small_fraction']*100:.2f}% small activations\")"
   ]
  }
 ],
 "metadata": {
  "kernelspec": {
   "display_name": "Python 3",
   "language": "python",
   "name": "python3"
  },
  "language_info": {
   "codemirror_mode": {
    "name": "ipython",
    "version": 3
   },
   "file_extension": ".py",
   "mimetype": "text/x-python",
   "name": "python",
   "nbconvert_exporter": "python",
   "pygments_lexer": "ipython3",
   "version": "3.13.0"
  }
 },
 "nbformat": 4,
 "nbformat_minor": 5
}
